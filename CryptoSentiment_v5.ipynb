{
 "cells": [
  {
   "cell_type": "markdown",
   "metadata": {},
   "source": [
    "## Sentiment Analysis.py \n",
    "----\n",
    "The purpose of this code is to analyze the sentiment of any tweeter user input into this file to then correlate it bitcoin price. The goal is to be able to find users who can relatively predict the price of bitcoin up to a few days later.\n",
    "\n",
    "Libraries will include, numpy, pandas, matplotlib, tweepy, seaborn, and plotly.\n",
    "\n"
   ]
  },
  {
   "cell_type": "markdown",
   "metadata": {},
   "source": [
    "## Getting Bitcoin price history"
   ]
  },
  {
   "cell_type": "code",
   "execution_count": 690,
   "metadata": {},
   "outputs": [
    {
     "data": {
      "text/html": [
       "<script>requirejs.config({paths: { 'plotly': ['https://cdn.plot.ly/plotly-latest.min']},});if(!window.Plotly) {{require(['plotly'],function(plotly) {window.Plotly=plotly;});}}</script>"
      ],
      "text/vnd.plotly.v1+html": [
       "<script>requirejs.config({paths: { 'plotly': ['https://cdn.plot.ly/plotly-latest.min']},});if(!window.Plotly) {{require(['plotly'],function(plotly) {window.Plotly=plotly;});}}</script>"
      ]
     },
     "metadata": {},
     "output_type": "display_data"
    }
   ],
   "source": [
    "import pandas as pd\n",
    "import numpy as np\n",
    "#import pandas_profiling\n",
    "\n",
    "import seaborn as sns\n",
    "import matplotlib.pyplot as plt\n",
    "get_ipython().magic('matplotlib inline')\n",
    "from plotly.offline import init_notebook_mode, iplot\n",
    "from plotly.graph_objs import *\n",
    "\n",
    "init_notebook_mode(connected=True) \n",
    "\n",
    "import time\n",
    "import matplotlib.dates as mdates\n",
    "#import datetime as dt\n",
    "from datetime import datetime\n",
    "\n",
    "\n",
    "from IPython.core.interactiveshell import InteractiveShell\n",
    "InteractiveShell.ast_node_interactivity = \"all\"\n",
    "\n",
    "\n",
    "# get market info for bitcoin from the start of 2013 to the current day\n",
    "bitcoin_df = pd.read_html(\"https://coinmarketcap.com/currencies/bitcoin/historical-data/?start=20130428&end=\"+time.strftime(\"%Y%m%d\"))[0]\n",
    "\n",
    "# convert the date string to the correct date format\n",
    "bitcoin_df = bitcoin_df.assign(Date=pd.to_datetime(bitcoin_df['Date']))\n",
    "\n",
    "# when Volume is equal to '-' convert it to 0\n",
    "#does not work: bitcoin_df.loc[bitcoin_df['Volume'] == '-', 'Volume']=0\n",
    "bitcoin_df['Volume'].replace('-','0',inplace=True)\n",
    "\n",
    "# convert to int\n",
    "bitcoin_df['Volume'] = bitcoin_df['Volume'].astype('int64')\n",
    "\n",
    "# sort values from most recent to January 2017\n",
    "bitcoin_df = bitcoin_df.sort_values('Date',ascending=True)\n",
    "\n",
    "#change to same datetime as twitter df\n",
    "bitcoin_df['Date'] = bitcoin_df['Date'].dt.strftime('%Y/%m/%d')\n",
    "\n",
    "bitcoin_df = bitcoin_df.rename(columns={'Market Cap': 'Market_Cap'})\n"
   ]
  },
  {
   "cell_type": "code",
   "execution_count": 691,
   "metadata": {},
   "outputs": [
    {
     "name": "stderr",
     "output_type": "stream",
     "text": [
      "/Users/MichaelRubio/anaconda3/lib/python3.6/site-packages/ipykernel_launcher.py:2: SettingWithCopyWarning:\n",
      "\n",
      "\n",
      "A value is trying to be set on a copy of a slice from a DataFrame.\n",
      "Try using .loc[row_indexer,col_indexer] = value instead\n",
      "\n",
      "See the caveats in the documentation: http://pandas.pydata.org/pandas-docs/stable/indexing.html#indexing-view-versus-copy\n",
      "\n"
     ]
    },
    {
     "data": {
      "text/html": [
       "<div>\n",
       "<style>\n",
       "    .dataframe thead tr:only-child th {\n",
       "        text-align: right;\n",
       "    }\n",
       "\n",
       "    .dataframe thead th {\n",
       "        text-align: left;\n",
       "    }\n",
       "\n",
       "    .dataframe tbody tr th {\n",
       "        vertical-align: top;\n",
       "    }\n",
       "</style>\n",
       "<table border=\"1\" class=\"dataframe\">\n",
       "  <thead>\n",
       "    <tr style=\"text-align: right;\">\n",
       "      <th></th>\n",
       "      <th>Date</th>\n",
       "      <th>Open</th>\n",
       "      <th>High</th>\n",
       "      <th>Low</th>\n",
       "      <th>Close</th>\n",
       "      <th>Volume</th>\n",
       "      <th>Market_Cap</th>\n",
       "      <th>Change</th>\n",
       "      <th>Change_dummy</th>\n",
       "    </tr>\n",
       "  </thead>\n",
       "  <tbody>\n",
       "    <tr>\n",
       "      <th>4</th>\n",
       "      <td>2018/04/16</td>\n",
       "      <td>8337.57</td>\n",
       "      <td>8371.15</td>\n",
       "      <td>7925.73</td>\n",
       "      <td>8058.67</td>\n",
       "      <td>5631310000</td>\n",
       "      <td>141571000000</td>\n",
       "      <td>-270.44</td>\n",
       "      <td>0</td>\n",
       "    </tr>\n",
       "    <tr>\n",
       "      <th>3</th>\n",
       "      <td>2018/04/17</td>\n",
       "      <td>8071.66</td>\n",
       "      <td>8285.96</td>\n",
       "      <td>7881.72</td>\n",
       "      <td>7902.09</td>\n",
       "      <td>6900880000</td>\n",
       "      <td>137070000000</td>\n",
       "      <td>-156.58</td>\n",
       "      <td>0</td>\n",
       "    </tr>\n",
       "    <tr>\n",
       "      <th>2</th>\n",
       "      <td>2018/04/18</td>\n",
       "      <td>7944.43</td>\n",
       "      <td>8197.80</td>\n",
       "      <td>7886.01</td>\n",
       "      <td>8163.42</td>\n",
       "      <td>6529910000</td>\n",
       "      <td>134926000000</td>\n",
       "      <td>261.33</td>\n",
       "      <td>1</td>\n",
       "    </tr>\n",
       "    <tr>\n",
       "      <th>1</th>\n",
       "      <td>2018/04/19</td>\n",
       "      <td>8159.27</td>\n",
       "      <td>8298.69</td>\n",
       "      <td>8138.78</td>\n",
       "      <td>8294.31</td>\n",
       "      <td>7063210000</td>\n",
       "      <td>138591000000</td>\n",
       "      <td>130.89</td>\n",
       "      <td>1</td>\n",
       "    </tr>\n",
       "    <tr>\n",
       "      <th>0</th>\n",
       "      <td>2018/04/20</td>\n",
       "      <td>8286.88</td>\n",
       "      <td>8880.23</td>\n",
       "      <td>8244.54</td>\n",
       "      <td>8845.83</td>\n",
       "      <td>8438110000</td>\n",
       "      <td>140777000000</td>\n",
       "      <td>551.52</td>\n",
       "      <td>1</td>\n",
       "    </tr>\n",
       "  </tbody>\n",
       "</table>\n",
       "</div>"
      ],
      "text/plain": [
       "         Date     Open     High      Low    Close      Volume    Market_Cap  \\\n",
       "4  2018/04/16  8337.57  8371.15  7925.73  8058.67  5631310000  141571000000   \n",
       "3  2018/04/17  8071.66  8285.96  7881.72  7902.09  6900880000  137070000000   \n",
       "2  2018/04/18  7944.43  8197.80  7886.01  8163.42  6529910000  134926000000   \n",
       "1  2018/04/19  8159.27  8298.69  8138.78  8294.31  7063210000  138591000000   \n",
       "0  2018/04/20  8286.88  8880.23  8244.54  8845.83  8438110000  140777000000   \n",
       "\n",
       "   Change  Change_dummy  \n",
       "4 -270.44             0  \n",
       "3 -156.58             0  \n",
       "2  261.33             1  \n",
       "1  130.89             1  \n",
       "0  551.52             1  "
      ]
     },
     "execution_count": 691,
     "metadata": {},
     "output_type": "execute_result"
    }
   ],
   "source": [
    "bitcoin_2017_df = bitcoin_df[(bitcoin_df['Date']>'2017-01-01')]\n",
    "bitcoin_2017_df['Change'] = bitcoin_2017_df['Close'].diff()\n",
    "bitcoin_2017_df = bitcoin_2017_df.iloc[1:]\n",
    "\n",
    "# For Up or Down in Price\n",
    "change_dummy = []\n",
    "for i, row in bitcoin_2017_df.iterrows():\n",
    "    if row.Change >= 0:\n",
    "        pos = 1\n",
    "        change_dummy.append(pos)\n",
    "        \n",
    "    else:\n",
    "        neg = 0\n",
    "        change_dummy.append(neg)\n",
    "\n",
    "bitcoin_2017_df['Change_dummy'] = change_dummy\n",
    "bitcoin_2017_df.tail()"
   ]
  },
  {
   "cell_type": "markdown",
   "metadata": {},
   "source": [
    "## Importing CSV data from previous sentiments analysis"
   ]
  },
  {
   "cell_type": "code",
   "execution_count": 692,
   "metadata": {
    "collapsed": true
   },
   "outputs": [],
   "source": [
    "sunnarborg_df = pd.read_csv(\"analysis/Alex Sunnarborg-137-tweets.csv\")\n",
    "sunnarborg_df = sunnarborg_df[[\"tweet_source\", \"tweet_date\", \"tweet_vader_score\", \"tweet_text\"]]\n",
    "sunnarborg_df = sunnarborg_df.groupby(['tweet_source','tweet_date']).mean()\n",
    "sunnarborg_df.reset_index(drop=False, inplace=True)\n",
    "sunnarborg_df.sort_values('tweet_date', inplace=True)\n",
    "sunnarborg_df.reset_index(drop=True, inplace=True)\n",
    "sunnarborg_df = sunnarborg_df.rename(columns={'tweet_vader_score': 'mean_tweet_vader_score'})\n",
    "sunnarborg_df['two_day_mov_avg'] = sunnarborg_df['mean_tweet_vader_score'].rolling(window=3).mean()\n",
    "sunnarborg_df['seven_day_mov_avg'] = sunnarborg_df['mean_tweet_vader_score'].rolling(window=7).mean()\n",
    "sunnarborg_df = sunnarborg_df.rename(columns={'tweet_date': 'Date'})\n",
    "sunnarborg_df = sunnarborg_df.iloc[7:]\n",
    "sunnarborg_df = sunnarborg_df.rename(columns={'tweet_date': 'Date'})\n",
    "sunnarborg_df = sunnarborg_df.rename(columns={'mean_tweet_vader_score': 'sunnarborg_mean_score'})"
   ]
  },
  {
   "cell_type": "code",
   "execution_count": 693,
   "metadata": {
    "collapsed": true
   },
   "outputs": [],
   "source": [
    "adresen_df = pd.read_csv(\"analysis/Gavin Andresen-241-tweets.csv\")\n",
    "adresen_df = adresen_df[[\"tweet_source\", \"tweet_date\", \"tweet_vader_score\", \"tweet_text\"]]\n",
    "adresen_df = adresen_df.groupby(['tweet_source','tweet_date']).mean()\n",
    "adresen_df.reset_index(drop=False, inplace=True)\n",
    "adresen_df.sort_values('tweet_date', inplace=True)\n",
    "adresen_df.reset_index(drop=True, inplace=True)\n",
    "adresen_df = adresen_df.rename(columns={'tweet_vader_score': 'mean_tweet_vader_score'})\n",
    "adresen_df['two_day_mov_avg'] = adresen_df['mean_tweet_vader_score'].rolling(window=3).mean()\n",
    "adresen_df['seven_day_mov_avg'] = adresen_df['mean_tweet_vader_score'].rolling(window=7).mean()\n",
    "adresen_df = adresen_df.rename(columns={'tweet_date': 'Date'})\n",
    "adresen_df = adresen_df.iloc[7:]\n",
    "adresen_df = adresen_df.rename(columns={'mean_tweet_vader_score': 'adresen_mean_score'})"
   ]
  },
  {
   "cell_type": "code",
   "execution_count": 694,
   "metadata": {
    "collapsed": true
   },
   "outputs": [],
   "source": [
    "novogratz_df = pd.read_csv(\"analysis/Michael Novogratz-142-tweets.csv\")\n",
    "novogratz_df = novogratz_df[[\"tweet_source\", \"tweet_date\", \"tweet_vader_score\", \"tweet_text\"]]\n",
    "novogratz_df = novogratz_df.groupby(['tweet_source','tweet_date']).mean()\n",
    "novogratz_df.reset_index(drop=False, inplace=True)\n",
    "novogratz_df.sort_values('tweet_date', inplace=True)\n",
    "novogratz_df.reset_index(drop=True, inplace=True)\n",
    "novogratz_df = novogratz_df.rename(columns={'tweet_vader_score': 'mean_tweet_vader_score'})\n",
    "novogratz_df = novogratz_df.rename(columns={'tweet_date': 'Date'})\n",
    "novogratz_df['two_day_mov_avg'] = novogratz_df['mean_tweet_vader_score'].rolling(window=3).mean()\n",
    "novogratz_df['seven_day_mov_avg'] = novogratz_df['mean_tweet_vader_score'].rolling(window=7).mean()\n",
    "novogratz_df = novogratz_df.rename(columns={'tweet_date': 'Date'})\n",
    "novogratz_df = novogratz_df.iloc[7:]\n",
    "novogratz_df = novogratz_df.rename(columns={'mean_tweet_vader_score': 'novogratz_mean_score'})"
   ]
  },
  {
   "cell_type": "code",
   "execution_count": 695,
   "metadata": {},
   "outputs": [
    {
     "data": {
      "text/html": [
       "<div>\n",
       "<style>\n",
       "    .dataframe thead tr:only-child th {\n",
       "        text-align: right;\n",
       "    }\n",
       "\n",
       "    .dataframe thead th {\n",
       "        text-align: left;\n",
       "    }\n",
       "\n",
       "    .dataframe tbody tr th {\n",
       "        vertical-align: top;\n",
       "    }\n",
       "</style>\n",
       "<table border=\"1\" class=\"dataframe\">\n",
       "  <thead>\n",
       "    <tr style=\"text-align: right;\">\n",
       "      <th></th>\n",
       "      <th>Date</th>\n",
       "      <th>Close</th>\n",
       "      <th>Change</th>\n",
       "      <th>Change_dummy</th>\n",
       "      <th>sunnarborg_mean_score</th>\n",
       "      <th>adresen_mean_score</th>\n",
       "      <th>novogratz_mean_score</th>\n",
       "      <th>Volume</th>\n",
       "    </tr>\n",
       "  </thead>\n",
       "  <tbody>\n",
       "    <tr>\n",
       "      <th>469</th>\n",
       "      <td>2018/04/16</td>\n",
       "      <td>8058.67</td>\n",
       "      <td>-270.44</td>\n",
       "      <td>0.0</td>\n",
       "      <td>0.0</td>\n",
       "      <td>0.0</td>\n",
       "      <td>0.00000</td>\n",
       "      <td>5.631310e+09</td>\n",
       "    </tr>\n",
       "    <tr>\n",
       "      <th>470</th>\n",
       "      <td>2018/04/17</td>\n",
       "      <td>7902.09</td>\n",
       "      <td>-156.58</td>\n",
       "      <td>0.0</td>\n",
       "      <td>0.0</td>\n",
       "      <td>0.0</td>\n",
       "      <td>0.31845</td>\n",
       "      <td>6.900880e+09</td>\n",
       "    </tr>\n",
       "    <tr>\n",
       "      <th>471</th>\n",
       "      <td>2018/04/18</td>\n",
       "      <td>8163.42</td>\n",
       "      <td>261.33</td>\n",
       "      <td>1.0</td>\n",
       "      <td>0.0</td>\n",
       "      <td>0.0</td>\n",
       "      <td>0.42725</td>\n",
       "      <td>6.529910e+09</td>\n",
       "    </tr>\n",
       "    <tr>\n",
       "      <th>472</th>\n",
       "      <td>2018/04/19</td>\n",
       "      <td>8294.31</td>\n",
       "      <td>130.89</td>\n",
       "      <td>1.0</td>\n",
       "      <td>0.0</td>\n",
       "      <td>0.0</td>\n",
       "      <td>0.00000</td>\n",
       "      <td>7.063210e+09</td>\n",
       "    </tr>\n",
       "    <tr>\n",
       "      <th>473</th>\n",
       "      <td>2018/04/20</td>\n",
       "      <td>8845.83</td>\n",
       "      <td>551.52</td>\n",
       "      <td>1.0</td>\n",
       "      <td>0.0</td>\n",
       "      <td>0.0</td>\n",
       "      <td>0.00000</td>\n",
       "      <td>8.438110e+09</td>\n",
       "    </tr>\n",
       "  </tbody>\n",
       "</table>\n",
       "</div>"
      ],
      "text/plain": [
       "           Date    Close  Change  Change_dummy  sunnarborg_mean_score  \\\n",
       "469  2018/04/16  8058.67 -270.44           0.0                    0.0   \n",
       "470  2018/04/17  7902.09 -156.58           0.0                    0.0   \n",
       "471  2018/04/18  8163.42  261.33           1.0                    0.0   \n",
       "472  2018/04/19  8294.31  130.89           1.0                    0.0   \n",
       "473  2018/04/20  8845.83  551.52           1.0                    0.0   \n",
       "\n",
       "     adresen_mean_score  novogratz_mean_score        Volume  \n",
       "469                 0.0               0.00000  5.631310e+09  \n",
       "470                 0.0               0.31845  6.900880e+09  \n",
       "471                 0.0               0.42725  6.529910e+09  \n",
       "472                 0.0               0.00000  7.063210e+09  \n",
       "473                 0.0               0.00000  8.438110e+09  "
      ]
     },
     "execution_count": 695,
     "metadata": {},
     "output_type": "execute_result"
    }
   ],
   "source": [
    "final_df = pd.merge(bitcoin_2017_df, sunnarborg_df,  on='Date', how='outer')\n",
    "final_df = pd.merge(final_df, adresen_df, on='Date', how='outer')\n",
    "final_df = pd.merge(final_df, novogratz_df, on='Date', how='outer')\n",
    "final_df.fillna(0, inplace=True)\n",
    "final_df = final_df[(final_df['Date'] > '2017-01-01')]\n",
    "final_df = final_df[[\"Date\", \"Close\", \"Change\", \"Change_dummy\",\"sunnarborg_mean_score\", \"adresen_mean_score\", \"novogratz_mean_score\", \"Volume\"]] #\"Volume\", \"Market_Cap\"\n",
    "final_df.tail(5)"
   ]
  },
  {
   "cell_type": "code",
   "execution_count": 696,
   "metadata": {},
   "outputs": [
    {
     "data": {
      "text/html": [
       "<div>\n",
       "<style>\n",
       "    .dataframe thead tr:only-child th {\n",
       "        text-align: right;\n",
       "    }\n",
       "\n",
       "    .dataframe thead th {\n",
       "        text-align: left;\n",
       "    }\n",
       "\n",
       "    .dataframe tbody tr th {\n",
       "        vertical-align: top;\n",
       "    }\n",
       "</style>\n",
       "<table border=\"1\" class=\"dataframe\">\n",
       "  <thead>\n",
       "    <tr style=\"text-align: right;\">\n",
       "      <th></th>\n",
       "      <th>Date</th>\n",
       "      <th>Close</th>\n",
       "      <th>Change</th>\n",
       "      <th>Change_dummy</th>\n",
       "      <th>sunnarborg_mean_score</th>\n",
       "      <th>adresen_mean_score</th>\n",
       "      <th>novogratz_mean_score</th>\n",
       "      <th>Volume</th>\n",
       "      <th>avg_score</th>\n",
       "    </tr>\n",
       "  </thead>\n",
       "  <tbody>\n",
       "    <tr>\n",
       "      <th>28</th>\n",
       "      <td>2017/01/30</td>\n",
       "      <td>920.38</td>\n",
       "      <td>0.88</td>\n",
       "      <td>1.0</td>\n",
       "      <td>0.4528</td>\n",
       "      <td>0.11505</td>\n",
       "      <td>0.0</td>\n",
       "      <td>78227300.0</td>\n",
       "      <td>0.189283</td>\n",
       "    </tr>\n",
       "    <tr>\n",
       "      <th>29</th>\n",
       "      <td>2017/01/31</td>\n",
       "      <td>970.40</td>\n",
       "      <td>50.02</td>\n",
       "      <td>1.0</td>\n",
       "      <td>0.0000</td>\n",
       "      <td>0.03680</td>\n",
       "      <td>0.0</td>\n",
       "      <td>164582000.0</td>\n",
       "      <td>0.012267</td>\n",
       "    </tr>\n",
       "    <tr>\n",
       "      <th>30</th>\n",
       "      <td>2017/02/01</td>\n",
       "      <td>989.02</td>\n",
       "      <td>18.62</td>\n",
       "      <td>1.0</td>\n",
       "      <td>0.0000</td>\n",
       "      <td>0.18762</td>\n",
       "      <td>0.0</td>\n",
       "      <td>150110000.0</td>\n",
       "      <td>0.062540</td>\n",
       "    </tr>\n",
       "    <tr>\n",
       "      <th>31</th>\n",
       "      <td>2017/02/02</td>\n",
       "      <td>1011.80</td>\n",
       "      <td>22.78</td>\n",
       "      <td>1.0</td>\n",
       "      <td>0.5188</td>\n",
       "      <td>0.00000</td>\n",
       "      <td>0.0</td>\n",
       "      <td>145821000.0</td>\n",
       "      <td>0.172933</td>\n",
       "    </tr>\n",
       "    <tr>\n",
       "      <th>33</th>\n",
       "      <td>2017/02/04</td>\n",
       "      <td>1042.90</td>\n",
       "      <td>12.99</td>\n",
       "      <td>1.0</td>\n",
       "      <td>0.0000</td>\n",
       "      <td>0.47530</td>\n",
       "      <td>0.0</td>\n",
       "      <td>155064000.0</td>\n",
       "      <td>0.158433</td>\n",
       "    </tr>\n",
       "  </tbody>\n",
       "</table>\n",
       "</div>"
      ],
      "text/plain": [
       "          Date    Close  Change  Change_dummy  sunnarborg_mean_score  \\\n",
       "28  2017/01/30   920.38    0.88           1.0                 0.4528   \n",
       "29  2017/01/31   970.40   50.02           1.0                 0.0000   \n",
       "30  2017/02/01   989.02   18.62           1.0                 0.0000   \n",
       "31  2017/02/02  1011.80   22.78           1.0                 0.5188   \n",
       "33  2017/02/04  1042.90   12.99           1.0                 0.0000   \n",
       "\n",
       "    adresen_mean_score  novogratz_mean_score       Volume  avg_score  \n",
       "28             0.11505                   0.0   78227300.0   0.189283  \n",
       "29             0.03680                   0.0  164582000.0   0.012267  \n",
       "30             0.18762                   0.0  150110000.0   0.062540  \n",
       "31             0.00000                   0.0  145821000.0   0.172933  \n",
       "33             0.47530                   0.0  155064000.0   0.158433  "
      ]
     },
     "execution_count": 696,
     "metadata": {},
     "output_type": "execute_result"
    }
   ],
   "source": [
    "# average score between users\n",
    "final_df['avg_score'] = (final_df['sunnarborg_mean_score'] + final_df['adresen_mean_score'] + final_df['novogratz_mean_score']) / 3\n",
    "\n",
    "final_df = final_df[final_df.avg_score != 0]\n",
    "\n",
    "final_df.head()"
   ]
  },
  {
   "cell_type": "code",
   "execution_count": null,
   "metadata": {
    "collapsed": true
   },
   "outputs": [],
   "source": []
  },
  {
   "cell_type": "code",
   "execution_count": 697,
   "metadata": {},
   "outputs": [
    {
     "name": "stdout",
     "output_type": "stream",
     "text": [
      "How many days ahead shall we predict? 1\n"
     ]
    },
    {
     "data": {
      "text/html": [
       "<div>\n",
       "<style>\n",
       "    .dataframe thead tr:only-child th {\n",
       "        text-align: right;\n",
       "    }\n",
       "\n",
       "    .dataframe thead th {\n",
       "        text-align: left;\n",
       "    }\n",
       "\n",
       "    .dataframe tbody tr th {\n",
       "        vertical-align: top;\n",
       "    }\n",
       "</style>\n",
       "<table border=\"1\" class=\"dataframe\">\n",
       "  <thead>\n",
       "    <tr style=\"text-align: right;\">\n",
       "      <th></th>\n",
       "      <th>Date</th>\n",
       "      <th>Close</th>\n",
       "      <th>Change</th>\n",
       "      <th>Change_dummy</th>\n",
       "      <th>sunnarborg_mean_score</th>\n",
       "      <th>adresen_mean_score</th>\n",
       "      <th>novogratz_mean_score</th>\n",
       "      <th>Volume</th>\n",
       "      <th>avg_score</th>\n",
       "    </tr>\n",
       "  </thead>\n",
       "  <tbody>\n",
       "    <tr>\n",
       "      <th>28</th>\n",
       "      <td>NaN</td>\n",
       "      <td>NaN</td>\n",
       "      <td>NaN</td>\n",
       "      <td>NaN</td>\n",
       "      <td>0.4528</td>\n",
       "      <td>0.11505</td>\n",
       "      <td>0.0</td>\n",
       "      <td>78.2273</td>\n",
       "      <td>0.189283</td>\n",
       "    </tr>\n",
       "    <tr>\n",
       "      <th>29</th>\n",
       "      <td>2017/01/30</td>\n",
       "      <td>920.38</td>\n",
       "      <td>0.88</td>\n",
       "      <td>1.0</td>\n",
       "      <td>0.0000</td>\n",
       "      <td>0.03680</td>\n",
       "      <td>0.0</td>\n",
       "      <td>164.5820</td>\n",
       "      <td>0.012267</td>\n",
       "    </tr>\n",
       "    <tr>\n",
       "      <th>30</th>\n",
       "      <td>2017/01/31</td>\n",
       "      <td>970.40</td>\n",
       "      <td>50.02</td>\n",
       "      <td>1.0</td>\n",
       "      <td>0.0000</td>\n",
       "      <td>0.18762</td>\n",
       "      <td>0.0</td>\n",
       "      <td>150.1100</td>\n",
       "      <td>0.062540</td>\n",
       "    </tr>\n",
       "    <tr>\n",
       "      <th>31</th>\n",
       "      <td>2017/02/01</td>\n",
       "      <td>989.02</td>\n",
       "      <td>18.62</td>\n",
       "      <td>1.0</td>\n",
       "      <td>0.5188</td>\n",
       "      <td>0.00000</td>\n",
       "      <td>0.0</td>\n",
       "      <td>145.8210</td>\n",
       "      <td>0.172933</td>\n",
       "    </tr>\n",
       "    <tr>\n",
       "      <th>33</th>\n",
       "      <td>2017/02/02</td>\n",
       "      <td>1011.80</td>\n",
       "      <td>22.78</td>\n",
       "      <td>1.0</td>\n",
       "      <td>0.0000</td>\n",
       "      <td>0.47530</td>\n",
       "      <td>0.0</td>\n",
       "      <td>155.0640</td>\n",
       "      <td>0.158433</td>\n",
       "    </tr>\n",
       "  </tbody>\n",
       "</table>\n",
       "</div>"
      ],
      "text/plain": [
       "          Date    Close  Change  Change_dummy  sunnarborg_mean_score  \\\n",
       "28         NaN      NaN     NaN           NaN                 0.4528   \n",
       "29  2017/01/30   920.38    0.88           1.0                 0.0000   \n",
       "30  2017/01/31   970.40   50.02           1.0                 0.0000   \n",
       "31  2017/02/01   989.02   18.62           1.0                 0.5188   \n",
       "33  2017/02/02  1011.80   22.78           1.0                 0.0000   \n",
       "\n",
       "    adresen_mean_score  novogratz_mean_score    Volume  avg_score  \n",
       "28             0.11505                   0.0   78.2273   0.189283  \n",
       "29             0.03680                   0.0  164.5820   0.012267  \n",
       "30             0.18762                   0.0  150.1100   0.062540  \n",
       "31             0.00000                   0.0  145.8210   0.172933  \n",
       "33             0.47530                   0.0  155.0640   0.158433  "
      ]
     },
     "execution_count": 697,
     "metadata": {},
     "output_type": "execute_result"
    }
   ],
   "source": [
    "days_skipped = input(\"How many days ahead shall we predict? \")\n",
    "days_skipped = int(days_skipped)\n",
    "\n",
    "final_df.Date = final_df.Date.shift(days_skipped) ## shift down\n",
    "final_df.Close = final_df.Close.shift(days_skipped) ## shift down\n",
    "final_df.Change = final_df.Change.shift(days_skipped) ## shift down\n",
    "final_df.Change_dummy = final_df.Change_dummy.shift(days_skipped) ## shift down\n",
    "final_df.Volume = final_df.Volume/1000000\n",
    "#final_df.Market_Cap = final_df.Market_Cap/1000000000000\n",
    "final_df.head(5)"
   ]
  },
  {
   "cell_type": "code",
   "execution_count": 698,
   "metadata": {},
   "outputs": [
    {
     "data": {
      "text/html": [
       "<div>\n",
       "<style>\n",
       "    .dataframe thead tr:only-child th {\n",
       "        text-align: right;\n",
       "    }\n",
       "\n",
       "    .dataframe thead th {\n",
       "        text-align: left;\n",
       "    }\n",
       "\n",
       "    .dataframe tbody tr th {\n",
       "        vertical-align: top;\n",
       "    }\n",
       "</style>\n",
       "<table border=\"1\" class=\"dataframe\">\n",
       "  <thead>\n",
       "    <tr style=\"text-align: right;\">\n",
       "      <th></th>\n",
       "      <th>Date</th>\n",
       "      <th>Close</th>\n",
       "      <th>Change</th>\n",
       "      <th>Change_dummy</th>\n",
       "      <th>sunnarborg_mean_score</th>\n",
       "      <th>adresen_mean_score</th>\n",
       "      <th>novogratz_mean_score</th>\n",
       "      <th>Volume</th>\n",
       "      <th>avg_score</th>\n",
       "    </tr>\n",
       "  </thead>\n",
       "  <tbody>\n",
       "    <tr>\n",
       "      <th>324</th>\n",
       "      <td>2017/11/21</td>\n",
       "      <td>8071.26</td>\n",
       "      <td>-129.38</td>\n",
       "      <td>0.0</td>\n",
       "      <td>0.0</td>\n",
       "      <td>0.0</td>\n",
       "      <td>0.42792</td>\n",
       "      <td>3633.53</td>\n",
       "      <td>0.14264</td>\n",
       "    </tr>\n",
       "    <tr>\n",
       "      <th>325</th>\n",
       "      <td>2017/11/22</td>\n",
       "      <td>8253.55</td>\n",
       "      <td>182.29</td>\n",
       "      <td>1.0</td>\n",
       "      <td>0.0</td>\n",
       "      <td>0.0</td>\n",
       "      <td>0.66915</td>\n",
       "      <td>4225.18</td>\n",
       "      <td>0.22305</td>\n",
       "    </tr>\n",
       "  </tbody>\n",
       "</table>\n",
       "</div>"
      ],
      "text/plain": [
       "           Date    Close  Change  Change_dummy  sunnarborg_mean_score  \\\n",
       "324  2017/11/21  8071.26 -129.38           0.0                    0.0   \n",
       "325  2017/11/22  8253.55  182.29           1.0                    0.0   \n",
       "\n",
       "     adresen_mean_score  novogratz_mean_score   Volume  avg_score  \n",
       "324                 0.0               0.42792  3633.53    0.14264  \n",
       "325                 0.0               0.66915  4225.18    0.22305  "
      ]
     },
     "execution_count": 698,
     "metadata": {},
     "output_type": "execute_result"
    }
   ],
   "source": [
    "final_df.sort_values('Date', inplace=True)\n",
    "final_df = final_df.iloc[180:-days_skipped]\n",
    "final_df.head(days_skipped + 1)"
   ]
  },
  {
   "cell_type": "code",
   "execution_count": 699,
   "metadata": {
    "collapsed": true
   },
   "outputs": [],
   "source": [
    "# to export to csv\n",
    "\n",
    "#final_df.to_csv(\"combined_df2.csv\", encoding=\"utf-8\")"
   ]
  },
  {
   "cell_type": "markdown",
   "metadata": {},
   "source": [
    "## Getting Bitcoin price history"
   ]
  },
  {
   "cell_type": "code",
   "execution_count": 700,
   "metadata": {
    "collapsed": true
   },
   "outputs": [],
   "source": [
    "target = final_df[\"Change_dummy\"]\n",
    "target_names = [\"Up\", \"Down\"]"
   ]
  },
  {
   "cell_type": "code",
   "execution_count": 701,
   "metadata": {},
   "outputs": [
    {
     "data": {
      "text/html": [
       "<div>\n",
       "<style>\n",
       "    .dataframe thead tr:only-child th {\n",
       "        text-align: right;\n",
       "    }\n",
       "\n",
       "    .dataframe thead th {\n",
       "        text-align: left;\n",
       "    }\n",
       "\n",
       "    .dataframe tbody tr th {\n",
       "        vertical-align: top;\n",
       "    }\n",
       "</style>\n",
       "<table border=\"1\" class=\"dataframe\">\n",
       "  <thead>\n",
       "    <tr style=\"text-align: right;\">\n",
       "      <th></th>\n",
       "      <th>sunnarborg_mean_score</th>\n",
       "      <th>adresen_mean_score</th>\n",
       "      <th>novogratz_mean_score</th>\n",
       "      <th>Volume</th>\n",
       "    </tr>\n",
       "  </thead>\n",
       "  <tbody>\n",
       "    <tr>\n",
       "      <th>324</th>\n",
       "      <td>0.0</td>\n",
       "      <td>0.0</td>\n",
       "      <td>0.42792</td>\n",
       "      <td>3633.53</td>\n",
       "    </tr>\n",
       "  </tbody>\n",
       "</table>\n",
       "</div>"
      ],
      "text/plain": [
       "     sunnarborg_mean_score  adresen_mean_score  novogratz_mean_score   Volume\n",
       "324                    0.0                 0.0               0.42792  3633.53"
      ]
     },
     "execution_count": 701,
     "metadata": {},
     "output_type": "execute_result"
    }
   ],
   "source": [
    "final_df.drop(['Date'], axis = 1, inplace = True)\n",
    "final_df.drop(['Close'], axis = 1, inplace = True)\n",
    "final_df.drop(['Change'], axis = 1, inplace = True)\n",
    "final_df.drop(['Change_dummy'], axis = 1, inplace = True)\n",
    "final_df.drop(['avg_score'], axis = 1, inplace = True)\n",
    "\n",
    "data = final_df\n",
    "data.head(1)"
   ]
  },
  {
   "cell_type": "code",
   "execution_count": 702,
   "metadata": {
    "collapsed": true
   },
   "outputs": [],
   "source": [
    "from sklearn.model_selection import train_test_split\n",
    "X_train, X_test, y_train, y_test = train_test_split(data, target, random_state=42)"
   ]
  },
  {
   "cell_type": "code",
   "execution_count": 703,
   "metadata": {},
   "outputs": [
    {
     "data": {
      "text/plain": [
       "SVC(C=1.0, cache_size=200, class_weight=None, coef0=0.0,\n",
       "  decision_function_shape='ovr', degree=3, gamma='auto', kernel='linear',\n",
       "  max_iter=-1, probability=False, random_state=None, shrinking=True,\n",
       "  tol=0.001, verbose=False)"
      ]
     },
     "execution_count": 703,
     "metadata": {},
     "output_type": "execute_result"
    }
   ],
   "source": [
    "from sklearn.svm import SVC \n",
    "model = SVC(kernel='linear')\n",
    "model.fit(X_train, y_train)"
   ]
  },
  {
   "cell_type": "code",
   "execution_count": 704,
   "metadata": {
    "collapsed": true
   },
   "outputs": [],
   "source": [
    "# One-day shift forward"
   ]
  },
  {
   "cell_type": "code",
   "execution_count": 705,
   "metadata": {},
   "outputs": [
    {
     "name": "stdout",
     "output_type": "stream",
     "text": [
      "Train Acc: 0.551\n"
     ]
    }
   ],
   "source": [
    "# Model Accuracy\n",
    "print('Train Acc: %.3f' % model.score(X_train, y_train))"
   ]
  },
  {
   "cell_type": "code",
   "execution_count": 706,
   "metadata": {},
   "outputs": [
    {
     "name": "stdout",
     "output_type": "stream",
     "text": [
      "Test Acc: 0.667\n"
     ]
    }
   ],
   "source": [
    "# Model Accuracy\n",
    "print('Test Acc: %.3f' % model.score(X_test, y_test))"
   ]
  },
  {
   "cell_type": "code",
   "execution_count": null,
   "metadata": {
    "collapsed": true
   },
   "outputs": [],
   "source": []
  }
 ],
 "metadata": {
  "anaconda-cloud": {},
  "kernelspec": {
   "display_name": "Python 3",
   "language": "python",
   "name": "python3"
  },
  "language_info": {
   "codemirror_mode": {
    "name": "ipython",
    "version": 3
   },
   "file_extension": ".py",
   "mimetype": "text/x-python",
   "name": "python",
   "nbconvert_exporter": "python",
   "pygments_lexer": "ipython3",
   "version": "3.6.2"
  }
 },
 "nbformat": 4,
 "nbformat_minor": 1
}
