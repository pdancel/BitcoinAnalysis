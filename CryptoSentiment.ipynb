{
 "cells": [
  {
   "cell_type": "markdown",
   "metadata": {},
   "source": [
    "## Sentiment Analysis.py \n",
    "----\n",
    "The purpose of this code is to analyze the sentiment of any tweeter user input into this file to then correlate it bitcoin price. The goal is to be able to find users who can relatively predict the price of bitcoin up to a few days later.\n",
    "\n",
    "Libraries will include, numpy, pandas, matplotlib, tweepy, seaborn, and plotly.\n",
    "\n"
   ]
  },
  {
   "cell_type": "code",
   "execution_count": 216,
   "metadata": {
    "collapsed": true
   },
   "outputs": [],
   "source": [
    "# Dependencies\n",
    "%matplotlib inline\n",
    "import numpy as np\n",
    "import pandas as pd\n",
    "import matplotlib.pyplot as plt\n",
    "import json\n",
    "import tweepy\n",
    "import time\n",
    "import seaborn as sns\n",
    "\n",
    "# Initialize Sentiment Analyzer \n",
    "from textblob import TextBlob\n",
    "from vaderSentiment.vaderSentiment import SentimentIntensityAnalyzer\n",
    "analyzer = SentimentIntensityAnalyzer()\n",
    "\n",
    "# Twitter API Keys\n",
    "\n",
    "#default key\n",
    "consumer_key = \"jCuMds8hkjry8JV8JDEuDVH9o\"\n",
    "consumer_secret = \"psgKB7nb05kZqoD2ZFPrG78OqbObHySWUEhcLFcZ03qVMlsCwp\"\n",
    "access_token = \"814999527451148288-PVho6BBmmcQbSVKOHBt3E5jbPJM6Krl\"\n",
    "access_token_secret = \"a30jMaE70P2kefPFOzrfGTlA06okUcifkjJB9g2JWq4Ih\"\n",
    "\n",
    "#mykey\n",
    "#consumer_key = \"NqScljb6fcL4WHIuN9iHgrkj2\"\n",
    "#consumer_secret = \"bcCAGuzpSIfjWFDQfj6FbqabUN1ReIXBHwpmuKJlK2kthuuPYr\"\n",
    "#access_token = \"894209492157554693-d4Lb74DTmG7DY4JYPAbfLL1RzGsWFfR\"\n",
    "#access_token_secret = \"9IUVfRYP76fWRaNPP9elgsTyIq01gPpmw1HH0NOSk5tz8\""
   ]
  },
  {
   "cell_type": "code",
   "execution_count": 217,
   "metadata": {
    "collapsed": true
   },
   "outputs": [],
   "source": [
    "# Setup Tweepy API Authentication\n",
    "auth = tweepy.OAuthHandler(consumer_key, consumer_secret)\n",
    "auth.set_access_token(access_token, access_token_secret)\n",
    "api = tweepy.API(auth, parser=tweepy.parsers.JSONParser())"
   ]
  },
  {
   "cell_type": "markdown",
   "metadata": {},
   "source": [
    "## Enter Twitter handle below"
   ]
  },
  {
   "cell_type": "code",
   "execution_count": 219,
   "metadata": {},
   "outputs": [
    {
     "name": "stdout",
     "output_type": "stream",
     "text": [
      "Enter the name of a twitter handle: @satoshilite\n"
     ]
    }
   ],
   "source": [
    "user_input = input(\"Enter the name of a twitter handle: @\") \n",
    "\n",
    "\n",
    "# Other users to try: UrBuddySab\", \"CryptoCobain\", \"VitalikButerin, \"gavinandresen\", \"aantonop\""
   ]
  },
  {
   "cell_type": "code",
   "execution_count": 220,
   "metadata": {},
   "outputs": [
    {
     "data": {
      "text/plain": [
       "['satoshilite']"
      ]
     },
     "execution_count": 220,
     "metadata": {},
     "output_type": "execute_result"
    }
   ],
   "source": [
    "news_source = [user_input]\n",
    "news_source"
   ]
  },
  {
   "cell_type": "code",
   "execution_count": 225,
   "metadata": {
    "collapsed": true
   },
   "outputs": [],
   "source": [
    "# Override user input TEMPORARILY for code to work\n",
    "# Pending to create if user error does not exist\n",
    "\n",
    "news_source = [\"gavinandresen\"]"
   ]
  },
  {
   "cell_type": "markdown",
   "metadata": {},
   "source": [
    "## Creates function to grab the last 400 tweets from specified twitter handle"
   ]
  },
  {
   "cell_type": "code",
   "execution_count": 226,
   "metadata": {
    "collapsed": true,
    "scrolled": true
   },
   "outputs": [],
   "source": [
    "# Create a generic dictionary for holding all tweet information\n",
    "tweet_data = {\n",
    "    \"tweet_source\": [],\n",
    "    \"tweet_text\": [],\n",
    "    \"tweet_date\": [],\n",
    "    \"tweet_vader_score\": [],\n",
    "    \"tweet_neg_score\": [],\n",
    "    \"tweet_pos_score\": [],\n",
    "    \"tweet_neu_score\": []\n",
    "}\n",
    "\n",
    "# Grab 20 tweets from each page (total 200)\n",
    "\n",
    "#Each page \n",
    "for x in range(10):\n",
    "\n",
    "    # Loop through all news sources\n",
    "    for source in news_source:\n",
    "\n",
    "        # Grab the tweets\n",
    "        tweets = api.user_timeline(source, page=x)\n",
    "\n",
    "        # For each tweet store it into the dictionary\n",
    "        for tweet in tweets:\n",
    "            \n",
    "            # All data is grabbed from the JSON returned by Twitter\n",
    "            tweet_data[\"tweet_source\"].append(tweet[\"user\"][\"name\"])\n",
    "            tweet_data[\"tweet_text\"].append(tweet[\"text\"])\n",
    "            tweet_data[\"tweet_date\"].append(tweet[\"created_at\"])\n",
    "\n",
    "            # Run sentiment analysis on each tweet using Vader\n",
    "            tweet_data[\"tweet_vader_score\"].append(analyzer.polarity_scores(tweet[\"text\"])[\"compound\"])\n",
    "            tweet_data[\"tweet_pos_score\"].append(analyzer.polarity_scores(tweet[\"text\"])[\"pos\"])\n",
    "            tweet_data[\"tweet_neu_score\"].append(analyzer.polarity_scores(tweet[\"text\"])[\"neu\"])\n",
    "            tweet_data[\"tweet_neg_score\"].append(analyzer.polarity_scores(tweet[\"text\"])[\"neg\"])"
   ]
  },
  {
   "cell_type": "code",
   "execution_count": 227,
   "metadata": {},
   "outputs": [
    {
     "data": {
      "text/html": [
       "<div>\n",
       "<style>\n",
       "    .dataframe thead tr:only-child th {\n",
       "        text-align: right;\n",
       "    }\n",
       "\n",
       "    .dataframe thead th {\n",
       "        text-align: left;\n",
       "    }\n",
       "\n",
       "    .dataframe tbody tr th {\n",
       "        vertical-align: top;\n",
       "    }\n",
       "</style>\n",
       "<table border=\"1\" class=\"dataframe\">\n",
       "  <thead>\n",
       "    <tr style=\"text-align: right;\">\n",
       "      <th></th>\n",
       "      <th>tweet_source</th>\n",
       "      <th>tweet_text</th>\n",
       "      <th>tweet_date</th>\n",
       "      <th>tweet_vader_score</th>\n",
       "      <th>tweet_pos_score</th>\n",
       "      <th>tweet_neu_score</th>\n",
       "      <th>tweet_neg_score</th>\n",
       "    </tr>\n",
       "  </thead>\n",
       "  <tbody>\n",
       "    <tr>\n",
       "      <th>195</th>\n",
       "      <td>Gavin Andresen</td>\n",
       "      <td>... e.g. “I KNOW miners will include 1-satoshi...</td>\n",
       "      <td>Fri Nov 03 12:36:15 +0000 2017</td>\n",
       "      <td>0.0000</td>\n",
       "      <td>0.000</td>\n",
       "      <td>1.000</td>\n",
       "      <td>0.0</td>\n",
       "    </tr>\n",
       "    <tr>\n",
       "      <th>196</th>\n",
       "      <td>Gavin Andresen</td>\n",
       "      <td>Next time somebody says game theory shows they...</td>\n",
       "      <td>Fri Nov 03 12:34:33 +0000 2017</td>\n",
       "      <td>0.0000</td>\n",
       "      <td>0.000</td>\n",
       "      <td>1.000</td>\n",
       "      <td>0.0</td>\n",
       "    </tr>\n",
       "    <tr>\n",
       "      <th>197</th>\n",
       "      <td>Gavin Andresen</td>\n",
       "      <td>Few lawyers, bureaucrats, helicopter parents o...</td>\n",
       "      <td>Wed Nov 01 14:02:09 +0000 2017</td>\n",
       "      <td>0.6486</td>\n",
       "      <td>0.261</td>\n",
       "      <td>0.739</td>\n",
       "      <td>0.0</td>\n",
       "    </tr>\n",
       "  </tbody>\n",
       "</table>\n",
       "</div>"
      ],
      "text/plain": [
       "       tweet_source                                         tweet_text  \\\n",
       "195  Gavin Andresen  ... e.g. “I KNOW miners will include 1-satoshi...   \n",
       "196  Gavin Andresen  Next time somebody says game theory shows they...   \n",
       "197  Gavin Andresen  Few lawyers, bureaucrats, helicopter parents o...   \n",
       "\n",
       "                         tweet_date  tweet_vader_score  tweet_pos_score  \\\n",
       "195  Fri Nov 03 12:36:15 +0000 2017             0.0000            0.000   \n",
       "196  Fri Nov 03 12:34:33 +0000 2017             0.0000            0.000   \n",
       "197  Wed Nov 01 14:02:09 +0000 2017             0.6486            0.261   \n",
       "\n",
       "     tweet_neu_score  tweet_neg_score  \n",
       "195            1.000              0.0  \n",
       "196            1.000              0.0  \n",
       "197            0.739              0.0  "
      ]
     },
     "execution_count": 227,
     "metadata": {},
     "output_type": "execute_result"
    }
   ],
   "source": [
    "# Store the final contents into a DataFrame\n",
    "tweet_df = pd.DataFrame(tweet_data, columns=[\"tweet_source\", \n",
    "                                             \"tweet_text\", \n",
    "                                             \"tweet_date\",\n",
    "                                             \"tweet_vader_score\",\n",
    "                                             \"tweet_pos_score\",\n",
    "                                             \"tweet_neu_score\",\n",
    "                                             \"tweet_neg_score\"])\n",
    "\n",
    "# Export to CSV\n",
    "#file_name = str(time.strftime(\"%m-%d-%y\")) + \"-tweets.csv\"\n",
    "#tweet_df.to_csv(\"analysis/\" + file_name, encoding=\"utf-8\")\n",
    "\n",
    "# Visualize the DataFrame\n",
    "tweet_df.tail(3)"
   ]
  },
  {
   "cell_type": "code",
   "execution_count": 228,
   "metadata": {},
   "outputs": [
    {
     "data": {
      "text/plain": [
       "tweet_source         198\n",
       "tweet_text           198\n",
       "tweet_date           198\n",
       "tweet_vader_score    198\n",
       "tweet_pos_score      198\n",
       "tweet_neu_score      198\n",
       "tweet_neg_score      198\n",
       "dtype: int64"
      ]
     },
     "execution_count": 228,
     "metadata": {},
     "output_type": "execute_result"
    }
   ],
   "source": [
    "# Count the total number of tweets\n",
    "tweet_df.count()"
   ]
  },
  {
   "cell_type": "code",
   "execution_count": 229,
   "metadata": {},
   "outputs": [
    {
     "data": {
      "text/plain": [
       "array(['Gavin Andresen'], dtype=object)"
      ]
     },
     "execution_count": 229,
     "metadata": {},
     "output_type": "execute_result"
    }
   ],
   "source": [
    "# Obtain the source names for reference\n",
    "tweet_df[\"tweet_source\"].unique()"
   ]
  },
  {
   "cell_type": "markdown",
   "metadata": {},
   "source": [
    "## Initial cleaning of data"
   ]
  },
  {
   "cell_type": "code",
   "execution_count": 254,
   "metadata": {},
   "outputs": [
    {
     "data": {
      "text/html": [
       "<div>\n",
       "<style>\n",
       "    .dataframe thead tr:only-child th {\n",
       "        text-align: right;\n",
       "    }\n",
       "\n",
       "    .dataframe thead th {\n",
       "        text-align: left;\n",
       "    }\n",
       "\n",
       "    .dataframe tbody tr th {\n",
       "        vertical-align: top;\n",
       "    }\n",
       "</style>\n",
       "<table border=\"1\" class=\"dataframe\">\n",
       "  <thead>\n",
       "    <tr style=\"text-align: right;\">\n",
       "      <th></th>\n",
       "      <th>tweet_source</th>\n",
       "      <th>tweet_text</th>\n",
       "      <th>tweet_date</th>\n",
       "      <th>tweet_vader_score</th>\n",
       "      <th>tweet_pos_score</th>\n",
       "      <th>tweet_neu_score</th>\n",
       "      <th>tweet_neg_score</th>\n",
       "    </tr>\n",
       "  </thead>\n",
       "  <tbody>\n",
       "    <tr>\n",
       "      <th>0</th>\n",
       "      <td>Gavin Andresen</td>\n",
       "      <td>@thatsascam I am not giving anything away; ple...</td>\n",
       "      <td>2018/04/12</td>\n",
       "      <td>-0.2110</td>\n",
       "      <td>0.141</td>\n",
       "      <td>0.686</td>\n",
       "      <td>0.173</td>\n",
       "    </tr>\n",
       "    <tr>\n",
       "      <th>1</th>\n",
       "      <td>Gavin Andresen</td>\n",
       "      <td>Clear explanation of some lightning network co...</td>\n",
       "      <td>2018/04/12</td>\n",
       "      <td>0.6249</td>\n",
       "      <td>0.282</td>\n",
       "      <td>0.718</td>\n",
       "      <td>0.000</td>\n",
       "    </tr>\n",
       "    <tr>\n",
       "      <th>2</th>\n",
       "      <td>Gavin Andresen</td>\n",
       "      <td>@rusty_twit You don’t think one of the goals o...</td>\n",
       "      <td>2018/04/10</td>\n",
       "      <td>0.0000</td>\n",
       "      <td>0.000</td>\n",
       "      <td>1.000</td>\n",
       "      <td>0.000</td>\n",
       "    </tr>\n",
       "  </tbody>\n",
       "</table>\n",
       "</div>"
      ],
      "text/plain": [
       "     tweet_source                                         tweet_text  \\\n",
       "0  Gavin Andresen  @thatsascam I am not giving anything away; ple...   \n",
       "1  Gavin Andresen  Clear explanation of some lightning network co...   \n",
       "2  Gavin Andresen  @rusty_twit You don’t think one of the goals o...   \n",
       "\n",
       "   tweet_date  tweet_vader_score  tweet_pos_score  tweet_neu_score  \\\n",
       "0  2018/04/12            -0.2110            0.141            0.686   \n",
       "1  2018/04/12             0.6249            0.282            0.718   \n",
       "2  2018/04/10             0.0000            0.000            1.000   \n",
       "\n",
       "   tweet_neg_score  \n",
       "0            0.173  \n",
       "1            0.000  \n",
       "2            0.000  "
      ]
     },
     "execution_count": 254,
     "metadata": {},
     "output_type": "execute_result"
    }
   ],
   "source": [
    "tweet_df['tweet_date'] = pd.to_datetime(tweet_df['tweet_date'])\n",
    "tweet_df['tweet_date'] = tweet_df['tweet_date'].dt.strftime('%Y/%m/%d')\n",
    "tweet_df.reset_index(drop=True, inplace=True)\n",
    "tweet_df.head(3)"
   ]
  },
  {
   "cell_type": "code",
   "execution_count": 255,
   "metadata": {},
   "outputs": [
    {
     "data": {
      "text/plain": [
       "'Gavin Andresen'"
      ]
     },
     "execution_count": 255,
     "metadata": {},
     "output_type": "execute_result"
    }
   ],
   "source": [
    "tweet_df['tweet_source'][0]"
   ]
  },
  {
   "cell_type": "code",
   "execution_count": 256,
   "metadata": {},
   "outputs": [
    {
     "data": {
      "text/plain": [
       "array(['Gavin Andresen'], dtype=object)"
      ]
     },
     "execution_count": 256,
     "metadata": {},
     "output_type": "execute_result"
    }
   ],
   "source": [
    "tweet_df.tweet_source.unique()"
   ]
  },
  {
   "cell_type": "markdown",
   "metadata": {},
   "source": [
    "## Sum and plot data of specified user"
   ]
  },
  {
   "cell_type": "code",
   "execution_count": 257,
   "metadata": {},
   "outputs": [
    {
     "data": {
      "text/html": [
       "<script>requirejs.config({paths: { 'plotly': ['https://cdn.plot.ly/plotly-latest.min']},});if(!window.Plotly) {{require(['plotly'],function(plotly) {window.Plotly=plotly;});}}</script>"
      ],
      "text/vnd.plotly.v1+html": [
       "<script>requirejs.config({paths: { 'plotly': ['https://cdn.plot.ly/plotly-latest.min']},});if(!window.Plotly) {{require(['plotly'],function(plotly) {window.Plotly=plotly;});}}</script>"
      ]
     },
     "metadata": {},
     "output_type": "display_data"
    }
   ],
   "source": [
    "import datetime as dt\n",
    "from plotly.offline import init_notebook_mode, iplot\n",
    "from plotly.graph_objs import *\n",
    "\n",
    "init_notebook_mode(connected=True)"
   ]
  },
  {
   "cell_type": "code",
   "execution_count": 297,
   "metadata": {},
   "outputs": [
    {
     "name": "stdout",
     "output_type": "stream",
     "text": [
      " --------------------------------------------------------------------------\n",
      "|                                                                          |\n",
      "|  Sentiment Analysis of Gavin Andresen from  2017/11/01  to  2018/04/12   |\n",
      "|                                                                          |\n",
      " --------------------------------------------------------------------------\n"
     ]
    }
   ],
   "source": [
    "plot_df = tweet_df.loc[tweet_df['tweet_source'] == tweet_df['tweet_source'][0]]\n",
    "plot_df = plot_df[[\"tweet_source\", \"tweet_date\", \"tweet_vader_score\", \"tweet_text\"]]\n",
    "plot_df = plot_df.groupby(['tweet_source','tweet_date']).mean()\n",
    "plot_df.reset_index(drop=False, inplace=True)\n",
    "plot_df.sort_values('tweet_date', inplace=True)\n",
    "plot_df.reset_index(drop=True, inplace=True)\n",
    "plot_df = plot_df.rename(columns={'tweet_vader_score': 'mean_tweet_vader_score'})\n",
    "plot_df\n",
    "\n",
    "print(\" --------------------------------------------------------------------------\")\n",
    "print(\"|                                                                          |\")\n",
    "print(\"|  Sentiment Analysis of \" + tweet_df['tweet_source'][0] + \" from  \" + plot_df['tweet_date'][0] + \"  to  \" +  plot_df[\"tweet_date\"].iloc[-1] + \"   |\")\n",
    "print(\"|                                                                          |\")\n",
    "print(\" --------------------------------------------------------------------------\")"
   ]
  },
  {
   "cell_type": "code",
   "execution_count": 262,
   "metadata": {},
   "outputs": [
    {
     "data": {
      "application/vnd.plotly.v1+json": {
       "data": [
        {
         "type": "scatter",
         "x": [
          "2017/11/01",
          "2017/11/03",
          "2017/11/05",
          "2017/11/06",
          "2017/11/07",
          "2017/11/08",
          "2017/11/09",
          "2017/11/11",
          "2017/11/12",
          "2017/11/13",
          "2017/11/14",
          "2017/11/16",
          "2017/11/17",
          "2017/11/18",
          "2017/11/22",
          "2017/11/23",
          "2017/11/25",
          "2017/11/27",
          "2017/11/29",
          "2017/11/30",
          "2017/12/01",
          "2017/12/03",
          "2017/12/06",
          "2017/12/07",
          "2017/12/09",
          "2017/12/10",
          "2017/12/11",
          "2017/12/12",
          "2017/12/13",
          "2017/12/14",
          "2017/12/15",
          "2017/12/16",
          "2017/12/18",
          "2017/12/20",
          "2017/12/21",
          "2017/12/22",
          "2017/12/26",
          "2017/12/28",
          "2017/12/29",
          "2017/12/30",
          "2018/01/04",
          "2018/01/05",
          "2018/01/06",
          "2018/01/07",
          "2018/01/08",
          "2018/01/09",
          "2018/01/13",
          "2018/01/15",
          "2018/01/17",
          "2018/01/19",
          "2018/01/22",
          "2018/01/28",
          "2018/01/29",
          "2018/01/30",
          "2018/02/02",
          "2018/02/03",
          "2018/02/05",
          "2018/02/06",
          "2018/02/09",
          "2018/02/12",
          "2018/02/14",
          "2018/02/16",
          "2018/02/17",
          "2018/02/21",
          "2018/02/23",
          "2018/02/25",
          "2018/02/26",
          "2018/02/27",
          "2018/02/28",
          "2018/03/01",
          "2018/03/04",
          "2018/03/07",
          "2018/03/10",
          "2018/03/15",
          "2018/03/16",
          "2018/03/21",
          "2018/03/22",
          "2018/03/23",
          "2018/03/29",
          "2018/04/02",
          "2018/04/09",
          "2018/04/10",
          "2018/04/12"
         ],
         "y": [
          0.6486,
          0,
          0.629,
          -0.5183,
          -0.296,
          -0.1027,
          0.1909,
          -0.07466666666666665,
          0.24166666666666667,
          0.7184,
          -0.2263,
          0.5423,
          -0.0593,
          0,
          0,
          0,
          0.229525,
          0,
          0.14985,
          0.36335,
          0,
          0,
          0.031375,
          0.34,
          0.2732,
          0.38770000000000004,
          0.29919999999999997,
          0.2394666666666667,
          0.5826,
          -0.0034250000000000044,
          -0.2202,
          0.13477999999999998,
          0.53505,
          -0.1447,
          -0.10844999999999998,
          0.06698333333333333,
          0,
          0,
          0.4215,
          0.5859,
          -0.11846000000000001,
          0.15442,
          -0.23904999999999998,
          0.2553,
          0.5254666666666666,
          0,
          0.0387,
          0.6124,
          -0.20095,
          -0.2897,
          -0.25229999999999997,
          -0.09889999999999999,
          0,
          -0.1531,
          0.2748,
          0.17773333333333338,
          0,
          0.4404,
          0.2023,
          -0.10246666666666666,
          0.06832,
          0.043714285714285706,
          0.4019,
          -0.6486,
          0.8143,
          0.07885000000000002,
          -0.7003,
          -0.0609,
          0,
          0.4588,
          -0.6867,
          -0.4767,
          0,
          0,
          -0.6369,
          -0.6486,
          0.1806,
          0.5106,
          0,
          0.3968666666666667,
          -0.0387,
          0,
          0.20695000000000002
         ]
        }
       ],
       "layout": {}
      },
      "text/html": [
       "<div id=\"31fcb915-299e-40ab-921f-1265d23981dd\" style=\"height: 525px; width: 100%;\" class=\"plotly-graph-div\"></div><script type=\"text/javascript\">require([\"plotly\"], function(Plotly) { window.PLOTLYENV=window.PLOTLYENV || {};window.PLOTLYENV.BASE_URL=\"https://plot.ly\";Plotly.newPlot(\"31fcb915-299e-40ab-921f-1265d23981dd\", [{\"type\": \"scatter\", \"x\": [\"2017/11/01\", \"2017/11/03\", \"2017/11/05\", \"2017/11/06\", \"2017/11/07\", \"2017/11/08\", \"2017/11/09\", \"2017/11/11\", \"2017/11/12\", \"2017/11/13\", \"2017/11/14\", \"2017/11/16\", \"2017/11/17\", \"2017/11/18\", \"2017/11/22\", \"2017/11/23\", \"2017/11/25\", \"2017/11/27\", \"2017/11/29\", \"2017/11/30\", \"2017/12/01\", \"2017/12/03\", \"2017/12/06\", \"2017/12/07\", \"2017/12/09\", \"2017/12/10\", \"2017/12/11\", \"2017/12/12\", \"2017/12/13\", \"2017/12/14\", \"2017/12/15\", \"2017/12/16\", \"2017/12/18\", \"2017/12/20\", \"2017/12/21\", \"2017/12/22\", \"2017/12/26\", \"2017/12/28\", \"2017/12/29\", \"2017/12/30\", \"2018/01/04\", \"2018/01/05\", \"2018/01/06\", \"2018/01/07\", \"2018/01/08\", \"2018/01/09\", \"2018/01/13\", \"2018/01/15\", \"2018/01/17\", \"2018/01/19\", \"2018/01/22\", \"2018/01/28\", \"2018/01/29\", \"2018/01/30\", \"2018/02/02\", \"2018/02/03\", \"2018/02/05\", \"2018/02/06\", \"2018/02/09\", \"2018/02/12\", \"2018/02/14\", \"2018/02/16\", \"2018/02/17\", \"2018/02/21\", \"2018/02/23\", \"2018/02/25\", \"2018/02/26\", \"2018/02/27\", \"2018/02/28\", \"2018/03/01\", \"2018/03/04\", \"2018/03/07\", \"2018/03/10\", \"2018/03/15\", \"2018/03/16\", \"2018/03/21\", \"2018/03/22\", \"2018/03/23\", \"2018/03/29\", \"2018/04/02\", \"2018/04/09\", \"2018/04/10\", \"2018/04/12\"], \"y\": [0.6486, 0.0, 0.629, -0.5183, -0.296, -0.1027, 0.1909, -0.07466666666666665, 0.24166666666666667, 0.7184, -0.2263, 0.5423, -0.0593, 0.0, 0.0, 0.0, 0.229525, 0.0, 0.14985, 0.36335, 0.0, 0.0, 0.031375, 0.34, 0.2732, 0.38770000000000004, 0.29919999999999997, 0.2394666666666667, 0.5826, -0.0034250000000000044, -0.2202, 0.13477999999999998, 0.53505, -0.1447, -0.10844999999999998, 0.06698333333333333, 0.0, 0.0, 0.4215, 0.5859, -0.11846000000000001, 0.15442, -0.23904999999999998, 0.2553, 0.5254666666666666, 0.0, 0.0387, 0.6124, -0.20095, -0.2897, -0.25229999999999997, -0.09889999999999999, 0.0, -0.1531, 0.2748, 0.17773333333333338, 0.0, 0.4404, 0.2023, -0.10246666666666666, 0.06832, 0.043714285714285706, 0.4019, -0.6486, 0.8143, 0.07885000000000002, -0.7003, -0.0609, 0.0, 0.4588, -0.6867, -0.4767, 0.0, 0.0, -0.6369, -0.6486, 0.1806, 0.5106, 0.0, 0.3968666666666667, -0.0387, 0.0, 0.20695000000000002]}], {}, {\"showLink\": true, \"linkText\": \"Export to plot.ly\"})});</script>"
      ],
      "text/vnd.plotly.v1+html": [
       "<div id=\"31fcb915-299e-40ab-921f-1265d23981dd\" style=\"height: 525px; width: 100%;\" class=\"plotly-graph-div\"></div><script type=\"text/javascript\">require([\"plotly\"], function(Plotly) { window.PLOTLYENV=window.PLOTLYENV || {};window.PLOTLYENV.BASE_URL=\"https://plot.ly\";Plotly.newPlot(\"31fcb915-299e-40ab-921f-1265d23981dd\", [{\"type\": \"scatter\", \"x\": [\"2017/11/01\", \"2017/11/03\", \"2017/11/05\", \"2017/11/06\", \"2017/11/07\", \"2017/11/08\", \"2017/11/09\", \"2017/11/11\", \"2017/11/12\", \"2017/11/13\", \"2017/11/14\", \"2017/11/16\", \"2017/11/17\", \"2017/11/18\", \"2017/11/22\", \"2017/11/23\", \"2017/11/25\", \"2017/11/27\", \"2017/11/29\", \"2017/11/30\", \"2017/12/01\", \"2017/12/03\", \"2017/12/06\", \"2017/12/07\", \"2017/12/09\", \"2017/12/10\", \"2017/12/11\", \"2017/12/12\", \"2017/12/13\", \"2017/12/14\", \"2017/12/15\", \"2017/12/16\", \"2017/12/18\", \"2017/12/20\", \"2017/12/21\", \"2017/12/22\", \"2017/12/26\", \"2017/12/28\", \"2017/12/29\", \"2017/12/30\", \"2018/01/04\", \"2018/01/05\", \"2018/01/06\", \"2018/01/07\", \"2018/01/08\", \"2018/01/09\", \"2018/01/13\", \"2018/01/15\", \"2018/01/17\", \"2018/01/19\", \"2018/01/22\", \"2018/01/28\", \"2018/01/29\", \"2018/01/30\", \"2018/02/02\", \"2018/02/03\", \"2018/02/05\", \"2018/02/06\", \"2018/02/09\", \"2018/02/12\", \"2018/02/14\", \"2018/02/16\", \"2018/02/17\", \"2018/02/21\", \"2018/02/23\", \"2018/02/25\", \"2018/02/26\", \"2018/02/27\", \"2018/02/28\", \"2018/03/01\", \"2018/03/04\", \"2018/03/07\", \"2018/03/10\", \"2018/03/15\", \"2018/03/16\", \"2018/03/21\", \"2018/03/22\", \"2018/03/23\", \"2018/03/29\", \"2018/04/02\", \"2018/04/09\", \"2018/04/10\", \"2018/04/12\"], \"y\": [0.6486, 0.0, 0.629, -0.5183, -0.296, -0.1027, 0.1909, -0.07466666666666665, 0.24166666666666667, 0.7184, -0.2263, 0.5423, -0.0593, 0.0, 0.0, 0.0, 0.229525, 0.0, 0.14985, 0.36335, 0.0, 0.0, 0.031375, 0.34, 0.2732, 0.38770000000000004, 0.29919999999999997, 0.2394666666666667, 0.5826, -0.0034250000000000044, -0.2202, 0.13477999999999998, 0.53505, -0.1447, -0.10844999999999998, 0.06698333333333333, 0.0, 0.0, 0.4215, 0.5859, -0.11846000000000001, 0.15442, -0.23904999999999998, 0.2553, 0.5254666666666666, 0.0, 0.0387, 0.6124, -0.20095, -0.2897, -0.25229999999999997, -0.09889999999999999, 0.0, -0.1531, 0.2748, 0.17773333333333338, 0.0, 0.4404, 0.2023, -0.10246666666666666, 0.06832, 0.043714285714285706, 0.4019, -0.6486, 0.8143, 0.07885000000000002, -0.7003, -0.0609, 0.0, 0.4588, -0.6867, -0.4767, 0.0, 0.0, -0.6369, -0.6486, 0.1806, 0.5106, 0.0, 0.3968666666666667, -0.0387, 0.0, 0.20695000000000002]}], {}, {\"showLink\": true, \"linkText\": \"Export to plot.ly\"})});</script>"
      ]
     },
     "metadata": {},
     "output_type": "display_data"
    }
   ],
   "source": [
    "plot_1 = Scatter(x = plot_df['tweet_date'], y = plot_df['mean_tweet_vader_score'])\n",
    "data = Data([plot_1])\n",
    "\n",
    "iplot(data)\n",
    "\n",
    "#save CSV\n",
    "csv_name = tweet_df['tweet_source'][0]\n",
    "\n",
    "plot_1.to_csv()\n",
    "#gavin_df.to_csv('first_df_test.csv')"
   ]
  },
  {
   "cell_type": "code",
   "execution_count": null,
   "metadata": {
    "collapsed": true
   },
   "outputs": [],
   "source": []
  },
  {
   "cell_type": "markdown",
   "metadata": {},
   "source": [
    "## Sentiment Scatter Plot"
   ]
  },
  {
   "cell_type": "code",
   "execution_count": 30,
   "metadata": {
    "scrolled": false
   },
   "outputs": [
    {
     "data": {
      "image/png": "[encoded data removed]",
      "text/plain": [
       "<matplotlib.figure.Figure at 0x1a0f91ba20>"
      ]
     },
     "metadata": {},
     "output_type": "display_data"
    }
   ],
   "source": [
    "# Build scatter plot for tracking tweet polarity by tweet history\n",
    "# Note how a few data munging tricks were used to obtain (-100 -> 0 tick marks)\n",
    "\n",
    "plt.scatter(np.arange(-len(tweet_df[tweet_df[\"tweet_source\"] == \"SabToshi\"]), 0, 1), \n",
    "            tweet_df[tweet_df[\"tweet_source\"] == \"SabToshi\"][\"tweet_vader_score\"],\n",
    "            edgecolor=\"black\", linewidths=1, marker=\"o\", color=\"red\", s=75,\n",
    "            alpha=0.8, label=\"SabToshi\")\n",
    "\n",
    "plt.scatter(np.arange(-len(tweet_df[tweet_df[\"tweet_source\"] == \"CRYPTO CO฿AIN\"]), 0, 1), \n",
    "            tweet_df[tweet_df[\"tweet_source\"] == \"CRYPTO CO฿AIN\"][\"tweet_vader_score\"],\n",
    "            edgecolor=\"black\", linewidths=1, marker=\"o\", color=\"b\", s=75,\n",
    "            alpha=0.8, label=\"CRYPTO COBAIN\")\n",
    "\n",
    "plt.scatter(np.arange(-len(tweet_df[tweet_df[\"tweet_source\"] == 'Vitalik \"Not giving away ETH\" Buterin']), 0, 1), \n",
    "            tweet_df[tweet_df[\"tweet_source\"] == 'Vitalik \"Not giving away ETH\" Buterin'][\"tweet_vader_score\"],\n",
    "            edgecolor=\"black\", linewidths=1, marker=\"o\", color=\"skyblue\", s=75,\n",
    "            alpha=0.8, label=\"Vitalik Buterin\")\n",
    "\n",
    "plt.scatter(np.arange(-len(tweet_df[tweet_df[\"tweet_source\"] == \"Charlie Lee [LTC]\"]), 0, 1), \n",
    "            tweet_df[tweet_df[\"tweet_source\"] == \"Charlie Lee [LTC]\"][\"tweet_vader_score\"],\n",
    "            edgecolor=\"black\", linewidths=1, marker=\"o\", color=\"green\", s=75,\n",
    "            alpha=0.8, label=\"Charlie Lee\")\n",
    "\n",
    "plt.scatter(np.arange(-len(tweet_df[tweet_df[\"tweet_source\"] == \"Andreas M. Antonopoulos\"]), 0, 1), \n",
    "            tweet_df[tweet_df[\"tweet_source\"] == \"Andreas M. Antonopoulos\"][\"tweet_vader_score\"],\n",
    "            edgecolor=\"black\", linewidths=1, marker=\"o\", color=\"gold\", s=75,\n",
    "            alpha=0.8, label=\"Andreas M. Antonopoulos\")\n",
    "\n",
    "\n",
    "\n",
    "\n",
    "# Incorporate the other graph properties\n",
    "plt.title(\"Sentiment Analysis of Media Tweets (%s)\" % time.strftime(\"%x\"))\n",
    "plt.ylabel(\"Tweet Polarity\")\n",
    "plt.xlabel(\"Tweets Ago\")\n",
    "plt.xlim([-105, 5])\n",
    "plt.xticks([-100, -80, -60, -40, -20, 0], [100, 80, 60, 40, 20, 0])\n",
    "plt.ylim([-1.05, 1.05])\n",
    "plt.grid(True)\n",
    "\n",
    "# Create a legend\n",
    "lgnd = plt.legend(fontsize=\"small\", mode=\"Expanded\", \n",
    "                  numpoints=1, scatterpoints=1, \n",
    "                  loc=\"upper left\", bbox_to_anchor=(1,1), title=\"Crypto Icons\", \n",
    "                  labelspacing=0.5)\n",
    "\n",
    "# Save the figure (and account for the legend being outside the plot when saving)\n",
    "file_name = str(time.strftime(\"%m-%d-%y\")) + \"-Fig1.png\"\n",
    "plt.savefig(\"analysis/\" + file_name, bbox_extra_artists=(lgnd, ), bbox_inches='tight')\n",
    "\n",
    "# Show plot\n",
    "plt.show()"
   ]
  },
  {
   "cell_type": "markdown",
   "metadata": {},
   "source": [
    "## Overall Sentiment Bar Graph"
   ]
  },
  {
   "cell_type": "code",
   "execution_count": 31,
   "metadata": {},
   "outputs": [
    {
     "data": {
      "text/html": [
       "<div>\n",
       "<style>\n",
       "    .dataframe thead tr:only-child th {\n",
       "        text-align: right;\n",
       "    }\n",
       "\n",
       "    .dataframe thead th {\n",
       "        text-align: left;\n",
       "    }\n",
       "\n",
       "    .dataframe tbody tr th {\n",
       "        vertical-align: top;\n",
       "    }\n",
       "</style>\n",
       "<table border=\"1\" class=\"dataframe\">\n",
       "  <thead>\n",
       "    <tr style=\"text-align: right;\">\n",
       "      <th></th>\n",
       "      <th>tweet_vader_score</th>\n",
       "    </tr>\n",
       "    <tr>\n",
       "      <th>tweet_source</th>\n",
       "      <th></th>\n",
       "    </tr>\n",
       "  </thead>\n",
       "  <tbody>\n",
       "    <tr>\n",
       "      <th>Andreas M. Antonopoulos</th>\n",
       "      <td>0.029407</td>\n",
       "    </tr>\n",
       "    <tr>\n",
       "      <th>CRYPTO CO฿AIN</th>\n",
       "      <td>0.102154</td>\n",
       "    </tr>\n",
       "    <tr>\n",
       "      <th>Charlie Lee [LTC]</th>\n",
       "      <td>0.077325</td>\n",
       "    </tr>\n",
       "    <tr>\n",
       "      <th>Gavin Andresen</th>\n",
       "      <td>0.011602</td>\n",
       "    </tr>\n",
       "    <tr>\n",
       "      <th>SabToshi</th>\n",
       "      <td>0.069104</td>\n",
       "    </tr>\n",
       "    <tr>\n",
       "      <th>Vitalik \"Not giving away ETH\" Buterin</th>\n",
       "      <td>0.157245</td>\n",
       "    </tr>\n",
       "  </tbody>\n",
       "</table>\n",
       "</div>"
      ],
      "text/plain": [
       "                                       tweet_vader_score\n",
       "tweet_source                                            \n",
       "Andreas M. Antonopoulos                         0.029407\n",
       "CRYPTO CO฿AIN                                   0.102154\n",
       "Charlie Lee [LTC]                               0.077325\n",
       "Gavin Andresen                                  0.011602\n",
       "SabToshi                                        0.069104\n",
       "Vitalik \"Not giving away ETH\" Buterin           0.157245"
      ]
     },
     "execution_count": 31,
     "metadata": {},
     "output_type": "execute_result"
    }
   ],
   "source": [
    "# Average all polarities by news source\n",
    "tweet_df_polarity = tweet_df.groupby([\"tweet_source\"]).mean()[\"tweet_vader_score\"]\n",
    "\n",
    "# View the polarities\n",
    "pd.DataFrame(tweet_df_polarity).head(10)"
   ]
  },
  {
   "cell_type": "code",
   "execution_count": null,
   "metadata": {
    "collapsed": true,
    "scrolled": false
   },
   "outputs": [],
   "source": []
  },
  {
   "cell_type": "code",
   "execution_count": null,
   "metadata": {
    "collapsed": true
   },
   "outputs": [],
   "source": []
  }
 ],
 "metadata": {
  "anaconda-cloud": {},
  "kernelspec": {
   "display_name": "Python 3",
   "language": "python",
   "name": "python3"
  },
  "language_info": {
   "codemirror_mode": {
    "name": "ipython",
    "version": 3
   },
   "file_extension": ".py",
   "mimetype": "text/x-python",
   "name": "python",
   "nbconvert_exporter": "python",
   "pygments_lexer": "ipython3",
   "version": "3.6.2"
  }
 },
 "nbformat": 4,
 "nbformat_minor": 1
}
